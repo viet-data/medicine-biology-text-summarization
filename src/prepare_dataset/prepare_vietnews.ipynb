{
 "cells": [
  {
   "cell_type": "code",
   "execution_count": 11,
   "metadata": {},
   "outputs": [],
   "source": [
    "import re\n",
    "import pandas as pd\n",
    "import os"
   ]
  },
  {
   "cell_type": "code",
   "execution_count": 12,
   "metadata": {},
   "outputs": [],
   "source": [
    "d = {\"Document\" : [\"test\"], \"Summary\":[\"test\"], \"Dataset\":[\"vietnews\"]}\n",
    "df = pd.DataFrame(data = d)"
   ]
  },
  {
   "cell_type": "code",
   "execution_count": 14,
   "metadata": {},
   "outputs": [],
   "source": [
    "files = os.listdir(\"test_tokenized\")\n",
    "for file in files:\n",
    "    with open(f\"test_tokenized/{file}\", 'r') as f:\n",
    "        #print(file)\n",
    "        text = f.read().replace('_', ' ').split(\"\\n\\n\")\n",
    "        #print(text)\n",
    "        summary =  text[1].replace(\"\\n\", \"\")\n",
    "        content = text[2].replace(\"\\n\", \"\")\n",
    "        #print(summary)\n",
    "        #print(content)\n",
    "        df.loc[len(df.index)] = [content, summary, \"vietnews\"]\n",
    "df.to_csv('vietnews_test.csv', index=True)   "
   ]
  },
  {
   "cell_type": "code",
   "execution_count": 16,
   "metadata": {},
   "outputs": [],
   "source": [
    "files = os.listdir(\"val_tokenized\")\n",
    "for file in files:\n",
    "    with open(f\"val_tokenized/{file}\", 'r') as f:\n",
    "        #print(file)\n",
    "        text = f.read().replace('_', ' ').split(\"\\n\\n\")\n",
    "        #print(text)\n",
    "        summary =  text[1].replace(\"\\n\", \"\")\n",
    "        content = text[2].replace(\"\\n\", \"\")\n",
    "        #print(summary)\n",
    "        #print(content)\n",
    "        df.loc[len(df.index)] = [content, summary, \"vietnews\"]\n",
    "df.to_csv('vietnews_val.csv', index=True)   "
   ]
  },
  {
   "cell_type": "code",
   "execution_count": 17,
   "metadata": {},
   "outputs": [],
   "source": [
    "files = os.listdir(\"train_tokenized\")\n",
    "for file in files:\n",
    "    with open(f\"train_tokenized/{file}\", 'r') as f:\n",
    "        #print(file)\n",
    "        text = f.read().replace('_', ' ').split(\"\\n\\n\")\n",
    "        #print(text)\n",
    "        summary =  text[1].replace(\"\\n\", \"\")\n",
    "        content = text[2].replace(\"\\n\", \"\")\n",
    "        #print(summary)\n",
    "        #print(content)\n",
    "        df.loc[len(df.index)] = [content, summary, \"vietnews\"]\n",
    "df.to_csv('vietnews_train.csv', index=True)   "
   ]
  },
  {
   "cell_type": "code",
   "execution_count": null,
   "metadata": {},
   "outputs": [],
   "source": []
  }
 ],
 "metadata": {
  "kernelspec": {
   "display_name": "Python 3",
   "language": "python",
   "name": "python3"
  },
  "language_info": {
   "codemirror_mode": {
    "name": "ipython",
    "version": 3
   },
   "file_extension": ".py",
   "mimetype": "text/x-python",
   "name": "python",
   "nbconvert_exporter": "python",
   "pygments_lexer": "ipython3",
   "version": "3.10.7"
  },
  "orig_nbformat": 4
 },
 "nbformat": 4,
 "nbformat_minor": 2
}
