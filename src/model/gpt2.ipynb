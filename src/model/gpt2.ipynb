{
 "cells": [
  {
   "cell_type": "code",
   "execution_count": null,
   "metadata": {
    "execution": {
     "iopub.execute_input": "2023-06-23T00:05:28.725098Z",
     "iopub.status.busy": "2023-06-23T00:05:28.724430Z",
     "iopub.status.idle": "2023-06-23T00:05:56.373231Z",
     "shell.execute_reply": "2023-06-23T00:05:56.372060Z",
     "shell.execute_reply.started": "2023-06-23T00:05:28.725061Z"
    }
   },
   "outputs": [],
   "source": [
    "!pip install evaluate\n",
    "!pip install rouge_score"
   ]
  },
  {
   "cell_type": "code",
   "execution_count": 1,
   "metadata": {
    "tags": []
   },
   "outputs": [],
   "source": [
    "from datasets import load_dataset\n",
    "from torch.utils.data import Dataset, DataLoader\n",
    "from collections import defaultdict\n",
    "from transformers import Seq2SeqTrainingArguments, Seq2SeqTrainer\n",
    "import torch\n",
    "import torch.nn as nn\n",
    "from transformers import pipeline"
   ]
  },
  {
   "cell_type": "code",
   "execution_count": 2,
   "metadata": {
    "tags": []
   },
   "outputs": [
    {
     "name": "stderr",
     "output_type": "stream",
     "text": [
      "Found cached dataset csv (/home/jupyter/.cache/huggingface/datasets/OpenHust___csv/OpenHust--vietnamese-summarization-0ae3a3f3a71406ca/0.0.0/eea64c71ca8b46dd3f537ed218fc9bf495d5707789152eb2764f5c78fa66d59d)\n"
     ]
    },
    {
     "data": {
      "application/vnd.jupyter.widget-view+json": {
       "model_id": "8df0c7d5207e4d51ae97b40ba5415bff",
       "version_major": 2,
       "version_minor": 0
      },
      "text/plain": [
       "  0%|          | 0/1 [00:00<?, ?it/s]"
      ]
     },
     "metadata": {},
     "output_type": "display_data"
    }
   ],
   "source": [
    "dataset = load_dataset(\"OpenHust/vietnamese-summarization\", data_files=\"bio_medicine.csv\")"
   ]
  },
  {
   "cell_type": "code",
   "execution_count": 3,
   "metadata": {
    "tags": []
   },
   "outputs": [
    {
     "data": {
      "text/plain": [
       "DatasetDict({\n",
       "    train: Dataset({\n",
       "        features: ['Document', 'Summary', 'Dataset'],\n",
       "        num_rows: 10652\n",
       "    })\n",
       "})"
      ]
     },
     "execution_count": 3,
     "metadata": {},
     "output_type": "execute_result"
    }
   ],
   "source": [
    "dataset"
   ]
  },
  {
   "cell_type": "code",
   "execution_count": null,
   "metadata": {},
   "outputs": [],
   "source": []
  },
  {
   "cell_type": "code",
   "execution_count": 90,
   "metadata": {
    "tags": []
   },
   "outputs": [
    {
     "name": "stderr",
     "output_type": "stream",
     "text": [
      "WARNING:datasets.arrow_dataset:Loading cached split indices for dataset at /home/jupyter/.cache/huggingface/datasets/OpenHust___csv/OpenHust--vietnamese-summarization-0ae3a3f3a71406ca/0.0.0/eea64c71ca8b46dd3f537ed218fc9bf495d5707789152eb2764f5c78fa66d59d/cache-ed5a4d1df9f42133.arrow and /home/jupyter/.cache/huggingface/datasets/OpenHust___csv/OpenHust--vietnamese-summarization-0ae3a3f3a71406ca/0.0.0/eea64c71ca8b46dd3f537ed218fc9bf495d5707789152eb2764f5c78fa66d59d/cache-47e3821e4c2a3df2.arrow\n",
      "WARNING:datasets.arrow_dataset:Loading cached split indices for dataset at /home/jupyter/.cache/huggingface/datasets/OpenHust___csv/OpenHust--vietnamese-summarization-0ae3a3f3a71406ca/0.0.0/eea64c71ca8b46dd3f537ed218fc9bf495d5707789152eb2764f5c78fa66d59d/cache-7b17a76b737608a0.arrow and /home/jupyter/.cache/huggingface/datasets/OpenHust___csv/OpenHust--vietnamese-summarization-0ae3a3f3a71406ca/0.0.0/eea64c71ca8b46dd3f537ed218fc9bf495d5707789152eb2764f5c78fa66d59d/cache-8f48c188df04d641.arrow\n"
     ]
    }
   ],
   "source": [
    "small= dataset[\"train\"]\n",
    "\n",
    "train, test = small.train_test_split(train_size=0.8, seed=0).values()\n",
    "train, dev = train.train_test_split(test_size=0.125, seed=0).values()"
   ]
  },
  {
   "cell_type": "code",
   "execution_count": 91,
   "metadata": {
    "tags": []
   },
   "outputs": [
    {
     "data": {
      "text/plain": [
       "Dataset({\n",
       "    features: ['Document', 'Summary', 'Dataset'],\n",
       "    num_rows: 7455\n",
       "})"
      ]
     },
     "execution_count": 91,
     "metadata": {},
     "output_type": "execute_result"
    }
   ],
   "source": [
    "train"
   ]
  },
  {
   "cell_type": "markdown",
   "metadata": {
    "execution": {
     "iopub.execute_input": "2023-05-09T03:19:12.283586Z",
     "iopub.status.busy": "2023-05-09T03:19:12.283212Z",
     "iopub.status.idle": "2023-05-09T03:19:32.265531Z",
     "shell.execute_reply": "2023-05-09T03:19:32.264574Z",
     "shell.execute_reply.started": "2023-05-09T03:19:12.283556Z"
    }
   },
   "source": [
    "from transformers import T5Tokenizer, T5ForConditionalGeneration\n",
    "\n",
    "tokenizer = T5Tokenizer.from_pretrained(\"google/flan-t5-base\")\n",
    "model = T5ForConditionalGeneration.from_pretrained(\"google/flan-t5-base\").to(\"cuda\")"
   ]
  },
  {
   "cell_type": "markdown",
   "metadata": {
    "execution": {
     "iopub.execute_input": "2023-05-08T17:39:49.353530Z",
     "iopub.status.busy": "2023-05-08T17:39:49.353140Z",
     "iopub.status.idle": "2023-05-08T17:40:08.442680Z",
     "shell.execute_reply": "2023-05-08T17:40:08.440220Z",
     "shell.execute_reply.started": "2023-05-08T17:39:49.353492Z"
    }
   },
   "source": [
    "from transformers import XGLMTokenizer, XGLMForCausalLM\n",
    "\n",
    "tokenizer = XGLMTokenizer.from_pretrained(\"facebook/xglm-564M\")\n",
    "model = XGLMForCausalLM.from_pretrained(\"facebook/xglm-564M\")"
   ]
  },
  {
   "cell_type": "code",
   "execution_count": null,
   "metadata": {
    "tags": []
   },
   "outputs": [],
   "source": [
    "import torch\n",
    "from transformers import GPT2Tokenizer, GPT2LMHeadModel, GPT2TokenizerFast\n",
    "\n",
    "tokenizer = GPT2TokenizerFast.from_pretrained('OpenHust/viet-gpt2', pad_token_id=50256 ,padding_side=\"right\")\n",
    "model = GPT2LMHeadModel.from_pretrained('OpenHust/viet-gpt2', pad_token_id=50256 , max_length=1024).to(\"cuda\")\n"
   ]
  },
  {
   "cell_type": "code",
   "execution_count": 98,
   "metadata": {
    "tags": []
   },
   "outputs": [],
   "source": [
    "class bio_medicine(Dataset):\n",
    "    \n",
    "    def __init__(self, docs, sums):\n",
    "        indices = [idx for idx, d in enumerate(docs)]\n",
    "        self.docs = [docs[i] for i in indices]\n",
    "        self.sums = [sums[i] for i in indices]\n",
    "        self.tokenizer = GPT2Tokenizer.from_pretrained('NlpHUST/gpt2-vietnamese')\n",
    "        self.tokenizer.add_special_tokens({\"eos_token\":\"<s>\"})\n",
    "    \n",
    "    def __len__(self):\n",
    "        return len(self.docs)\n",
    "    \n",
    "    def __getitem__(self, idx):\n",
    "        item = {}\n",
    "        #encoder-decoder\n",
    "        source = self.tokenizer(self.docs[idx])\n",
    "        target = self.tokenizer(self.sums[idx])\n",
    "        item[\"input_ids\"] = source[\"input_ids\"]\n",
    "        item[\"attention_mask\"] = source[\"attention_mask\"]\n",
    "        item[\"decoder_input_ids\"] = target[\"input_ids\"]\n",
    "        item[\"decoder_attention_mask\"] = target[\"attention_mask\"]\n",
    "        #end encoder-decoder\n",
    "        length = len(item[\"attention_mask\"][:500])\n",
    "        ori = item[\"input_ids\"]\n",
    "        item[\"input_ids\"] = [44282, 2589, 910, 781, 639, 1315] + item[\"input_ids\"][:500]+[7720, 781, 5307, 2589, 1315] + item[\"decoder_input_ids\"][:500]+[0]\n",
    "        item[\"input_ids\"] = item[\"input_ids\"]# + [0] * (1023-len(item[\"input_ids\"]))\n",
    "        item[\"attention_mask\"] = item[\"attention_mask\"][:500] + [1]*11 + item[\"decoder_attention_mask\"][:500]+[1]\n",
    "        item[\"attention_mask\"] = item[\"attention_mask\"]# + [0] * (1023-len(item[\"attention_mask\"]))\n",
    "        item[\"labels\"] = [-100]*6 + [-100]*len(ori[:500])+[-100]*5 + item[\"decoder_input_ids\"][:500]+[0]\n",
    "        if len(item[\"input_ids\"]) != len(item[\"labels\"]):\n",
    "            print(\"Diff\")\n",
    "        return {\"input_ids\":item[\"input_ids\"], \"attention_mask\":item[\"attention_mask\"], \"labels\":item[\"labels\"]}\n",
    "    \n",
    "    def get_data(self, batch):\n",
    "        item = {}\n",
    "        for k in batch[0]:\n",
    "            item[k] = [batch[i][k] for i in range(len(batch))]\n",
    "            \n",
    "        return item\n",
    "    \n",
    "    def collate_fn(self, batch):\n",
    "        batch = self.get_data(batch)\n",
    "        try:\n",
    "            emax = max([len(i) for i in batch[\"input_ids\"]])\n",
    "        except:\n",
    "            import pdb\n",
    "            pdb.set_trace()\n",
    "        if False:\n",
    "            batch[\"input_ids\"] = torch.tensor([(i + [0]*(emax - len(i)))[:512] for i in batch[\"input_ids\"]])\n",
    "            batch[\"attention_mask\"] = torch.tensor([(i + [0]*(emax - len(i)))[:512] for i in batch[\"attention_mask\"]])\n",
    "\n",
    "            dmax = max([len(i) for i in batch[\"decoder_input_ids\"]])\n",
    "            batch[\"decoder_input_ids\"] = torch.tensor([(i + [0]*(emax - len(i)))[:512] for i in batch[\"decoder_input_ids\"]])\n",
    "            batch[\"decoder_attention_mask\"] = torch.tensor([(i + [0]*(emax - len(i)))[:512] for i in batch[\"decoder_attention_mask\"]])\n",
    "            batch[\"labels\"] =  batch[\"decoder_input_ids\"].clone()\n",
    "        else:\n",
    "            other = {}\n",
    "            other[\"input_ids\"] = torch.tensor([([50256]*(emax - len(i))+i) for i in batch[\"input_ids\"]])\n",
    "            other[\"attention_mask\"] = torch.tensor([([0]*(emax - len(i))+i) for i in batch[\"attention_mask\"]])\n",
    "            other[\"labels\"] = torch.tensor([([-100]*(emax - len(i))+i) for i in batch[\"labels\"]])\n",
    "            batch = other\n",
    "        if batch[\"input_ids\"].size(0) == 0:\n",
    "            import pdb\n",
    "            pdb.set_trace()\n",
    "        return batch"
   ]
  },
  {
   "cell_type": "code",
   "execution_count": null,
   "metadata": {
    "tags": []
   },
   "outputs": [],
   "source": [
    "train_dataset = bio_medicine(train[\"Document\"], train[\"Summary\"])\n",
    "test_dataset = bio_medicine(test[\"Document\"], test[\"Summary\"])\n",
    "dev_dataset = bio_medicine(dev[\"Document\"], dev[\"Summary\"])"
   ]
  },
  {
   "cell_type": "code",
   "execution_count": 100,
   "metadata": {
    "tags": []
   },
   "outputs": [
    {
     "data": {
      "text/plain": [
       "2131"
      ]
     },
     "execution_count": 100,
     "metadata": {},
     "output_type": "execute_result"
    }
   ],
   "source": [
    "len(test_dataset)"
   ]
  },
  {
   "cell_type": "code",
   "execution_count": 101,
   "metadata": {
    "tags": []
   },
   "outputs": [],
   "source": [
    "for batch in train_dataset:\n",
    "    break"
   ]
  },
  {
   "cell_type": "code",
   "execution_count": 102,
   "metadata": {
    "tags": []
   },
   "outputs": [
    {
     "name": "stdout",
     "output_type": "stream",
     "text": [
      "Parameter containing:\n",
      "tensor([[ 0.4279,  0.1275,  0.1712,  ..., -0.1612, -0.1743, -0.1371],\n",
      "        [ 0.0576,  0.0699,  0.0041,  ..., -0.1084, -0.1452,  0.0853],\n",
      "        [ 0.1624,  0.1526,  0.1156,  ..., -0.0452, -0.1966,  0.0380],\n",
      "        ...,\n",
      "        [ 0.2943,  0.2226,  0.7038,  ...,  0.1234,  0.2001,  0.2527],\n",
      "        [ 0.3256,  0.4152,  0.3054,  ...,  0.1602, -0.2325,  0.5641],\n",
      "        [-0.4826,  0.2865, -0.5087,  ..., -0.2125, -0.5416,  0.1025]],\n",
      "       device='cuda:0', requires_grad=True)\n"
     ]
    }
   ],
   "source": [
    "for param in model.parameters():\n",
    "    print(param)\n",
    "    break"
   ]
  },
  {
   "cell_type": "code",
   "execution_count": 103,
   "metadata": {},
   "outputs": [
    {
     "data": {
      "text/plain": [
       "0"
      ]
     },
     "execution_count": 103,
     "metadata": {},
     "output_type": "execute_result"
    }
   ],
   "source": [
    "tokenizer.eos_token_id"
   ]
  },
  {
   "cell_type": "code",
   "execution_count": 104,
   "metadata": {
    "tags": []
   },
   "outputs": [],
   "source": [
    "import nltk\n",
    "import numpy as np\n",
    "import evaluate\n",
    "\n",
    "metric = evaluate.load(\"rouge\")\n",
    "def compute_metrics(eval_pred):\n",
    "    predictions, labels = eval_pred\n",
    "    #predictions = predictions[:, :-1]\n",
    "    \n",
    "    predictions[predictions == -100] = 0\n",
    "    predictions[labels == -100] = 0\n",
    "    decoded_preds = tokenizer.batch_decode(predictions, skip_special_tokens=True)\n",
    "    # Replace -100 in the labels as we can't decode them.\n",
    "    #labels = labels[labels !=-100]\n",
    "    labels = np.where(labels != -100, labels, tokenizer.eos_token_id)\n",
    "    \n",
    "    decoded_labels = tokenizer.batch_decode(labels, skip_special_tokens=True)\n",
    "\n",
    "    result = metric.compute(predictions=decoded_preds, references=decoded_labels, use_stemmer=True)\n",
    "\n",
    "    prediction_lens = [np.count_nonzero(pred != tokenizer.pad_token_id) for pred in predictions]\n",
    "    result[\"gen_len\"] = np.mean(prediction_lens)\n",
    "    #import pdb\n",
    "    #pdb.set_trace()\n",
    "    return {k: round(v, 4) for k, v in result.items()}\n",
    "import nltk\n",
    "import numpy as np\n",
    "import evaluate\n",
    "from datasets import load_metric\n",
    "\n",
    "metric = evaluate.load(\"rouge\")\n",
    "\n",
    "def compute_bleu(eval_preds):\n",
    "    \n",
    "    y_true = eval_preds.label_ids\n",
    "    y_pred = eval_preds.predictions\n",
    "    y_true = np.where(y_true != -100, y_true, tokenizer.pad_token_id)\n",
    "    y_pred = np.where(y_pred != -100, y_true, tokenizer.pad_token_id)\n",
    "    #import pdb\n",
    "    #pdb.set_trace()\n",
    "    metric = load_metric('bleu')\n",
    "    #import pdb\n",
    "    #pdb.set_trace()\n",
    "    try:\n",
    "        y_true = tokenizer.batch_decode(y_true, skip_special_tokens=True)\n",
    "        y_pred = tokenizer.batch_decode(y_pred, skip_special_tokens=True)\n",
    "        y_true = [[i.split()] for i in y_true]\n",
    "        y_pred= [i.split() for i in y_pred]\n",
    "        report = metric.compute(predictions=y_pred, references=y_true)\n",
    "    except Exception as e:\n",
    "        print(e)\n",
    "        import pdb\n",
    "        pdb.set_trace()\n",
    "    bleu = report['bleu'] * 100\n",
    "    print(bleu)\n",
    "    return {\"bleu\":bleu}"
   ]
  },
  {
   "cell_type": "code",
   "execution_count": 105,
   "metadata": {
    "tags": []
   },
   "outputs": [
    {
     "name": "stderr",
     "output_type": "stream",
     "text": [
      "PyTorch: setting up devices\n",
      "The default value for the training argument `--report_to` will change in v5 (from all installed integrations to none). In v5, you will need to use `--report_to all` to get the same behavior as now. You should start updating your code and make this info disappear :-).\n",
      "Using amp half precision backend\n"
     ]
    }
   ],
   "source": [
    "args = Seq2SeqTrainingArguments(output_dir=\"kaggle/working\",\n",
    "                                evaluation_strategy=\"steps\",\n",
    "                                save_steps = 1917*5,\n",
    "                                eval_steps = 200,\n",
    "                               per_device_train_batch_size=4,\n",
    "                               per_device_eval_batch_size=4,\n",
    "                               learning_rate=1e-4,\n",
    "                               weight_decay=1e-2,\n",
    "                               #load_best_model_at_end =True,\n",
    "                               predict_with_generate=True,\n",
    "                                 generation_max_length=1024,\n",
    "                               num_train_epochs=5,\n",
    "                               fp16=True)\n",
    "\n",
    "trainer = Seq2SeqTrainer(model=model, \n",
    "                        args=args,\n",
    "                        data_collator=train_dataset.collate_fn,\n",
    "                        train_dataset=train_dataset,\n",
    "                        eval_dataset=dev_dataset,\n",
    "                        tokenizer=tokenizer,\n",
    "                        compute_metrics=compute_metrics)"
   ]
  },
  {
   "cell_type": "code",
   "execution_count": null,
   "metadata": {},
   "outputs": [],
   "source": [
    "trainer.train()"
   ]
  },
  {
   "cell_type": "code",
   "execution_count": 106,
   "metadata": {
    "tags": []
   },
   "outputs": [
    {
     "name": "stderr",
     "output_type": "stream",
     "text": [
      "***** Running Evaluation *****\n",
      "  Num examples = 2131\n",
      "  Batch size = 4\n"
     ]
    },
    {
     "data": {
      "text/html": [
       "\n",
       "    <div>\n",
       "      \n",
       "      <progress value='533' max='533' style='width:300px; height:20px; vertical-align: middle;'></progress>\n",
       "      [533/533 49:47]\n",
       "    </div>\n",
       "    "
      ],
      "text/plain": [
       "<IPython.core.display.HTML object>"
      ]
     },
     "metadata": {},
     "output_type": "display_data"
    },
    {
     "data": {
      "text/plain": [
       "{'eval_loss': 2.0273325443267822,\n",
       " 'eval_rouge1': 0.5531,\n",
       " 'eval_rouge2': 0.5509,\n",
       " 'eval_rougeL': 0.5528,\n",
       " 'eval_rougeLsum': 0.5534,\n",
       " 'eval_gen_len': 1024.0,\n",
       " 'eval_runtime': 3035.1453,\n",
       " 'eval_samples_per_second': 0.702,\n",
       " 'eval_steps_per_second': 0.176}"
      ]
     },
     "execution_count": 106,
     "metadata": {},
     "output_type": "execute_result"
    }
   ],
   "source": [
    "trainer.evaluate(test_dataset)"
   ]
  },
  {
   "cell_type": "code",
   "execution_count": 22,
   "metadata": {
    "tags": []
   },
   "outputs": [
    {
     "data": {
      "text/plain": [
       "'Bạn không nên uống bất kì loại thuốc chống đông máu nào trong ít nhất vài ngày sau phẫu thuật. Nhờ bác sĩ tư vấn về việc này nếu đang sử dụng thuốc chống đông máu, vì nó làm tăng nguy cơ chảy máu hậu phẫu thuật. Tùy vào mỗi người thời gian cần ngừng uống thuốc chống đông máu sẽ khác nhau (thứ nhất là phụ thuộc vào lý do vì sao bạn phải dùng loại thuốc này). Nhờ bác sĩ hướng dẫn khi nào có thể uống thuốc trở lại bình thường. Nghỉ ngơi là một trong những yếu tố quan trọng nhất để phục hồi sau phẫu thuật cắt ống dẫn tinh. Bạn nên nghỉ phép vài ngày hoặc hạn chế làm các công việc thường nhật để vết thương lành nhanh hơn. Trừ khi công việc đòi hỏi phải hoạt động nhiều hoặc nâng nặng, bạn có thể đi làm lại khá nhanh, khoảng 2-3 ngày sau. Nếu phải làm việc nặng bạn nên hỏi bác sĩ khi nào an toàn để đi làm lại.  Cố gắng không làm việc quá nhiều trong 2-3 ngày đầu tiên sau phẫu thuật, và không ngại nhờ người khác giúp đỡ để có thời gian nghỉ ngơi phục hồi tốt hơn. Khuyến cáo hoạt động thể chất ở mức tối thiểu trong khoảng năm ngày sau phẫu thuật, và không nâng vật nặng trong ít nhất một tuần.   Nâng nặng khiến vết mổ bị kéo căng nên ảnh hưởng xấu đến quá trình lành. Sau năm ngày bạn có thể tập thể dục trở lại, bắt đầu nhẹ nhàng và từ từ khôi phục cường độ bình thường sau vài tuần. Phóng tinh sẽ gây đau và đôi khi dẫn tới chảy máu trong giai đoạn đầu sau phẫu thuật. Vì vậy bạn không thể tham gia hoạt động tình dục trong 7 ngày sau đó.  Nếu muốn quan hệ tình dục (sau khi hết một tuần và cảm thấy đủ tự tin), bạn phải sử dụng biện pháp ngừa thai cho đến khi hoàn thành các buổi tái khám để bác sĩ xác nhận không còn tinh trùng trong tinh dịch. Sau khi phẫu thuật bạn thường phải phóng tinh 20 lần trước khi tinh trùng hết hoàn toàn. Nói chung phẫu thuật cắt ống dẫn tinh không ảnh hưởng đến chức năng tình dục của người đàn ông. Nhiều người lo việc này sẽ ảnh hưởng đến ham muốn, sự cương cứng và/hoặc khoái cảm, nhưng nhiều nghiên cứu đã xác nhận rằng thủ thuật cắt ống dẫn tinh hoàn toàn không có tác động tiêu cực như vậy.   Người ta còn chứng minh phụ nữ cảm thấy thỏa mãn hơn sau khi bạn đời của họ trải qua phẫu thuật này, có lẽ vì họ an tâm khi không còn khả năng mang thai ngoài ý muốn. Lưu ý, rủi ro mang thai vẫn còn dù rất nhỏ (0,1% mỗi năm) sau khi phẫu thuật cắt ống dẫn tinh. Lý do là mặc dù hai đầu ống dẫn tinh đã được \"tách rời\" nhau nhưng tinh trùng vẫn có cơ hội băng qua đó và dẫn đến thụ thai. Tuy nhiên khả năng này rất hiếm và phẫu thuật cắt ống dẫn tinh (hay \"thắt ống dẫn trứng\", một thủ thuật tương đương ở phụ nữ) được xem là phương pháp ngừa thai hiệu quả nhất đối với những cặp vợ chồng quyết định không sinh con nữa. Tùy vào kỹ thuật áp dụng mà bác sĩ có thể phải khâu bìu tinh hoàn. Để ngăn chặn nhiễm trùng, tốt nhất bạn nên giữ vết khâu khô ráo, nghĩa là không bơi hay tắm trong vài ngày đầu tiên. Hỏi bác sĩ khi nào an toàn để tắm hay bơi.'"
      ]
     },
     "execution_count": 22,
     "metadata": {},
     "output_type": "execute_result"
    }
   ],
   "source": [
    "dev[\"Document\"][6]"
   ]
  },
  {
   "cell_type": "code",
   "execution_count": 23,
   "metadata": {
    "tags": []
   },
   "outputs": [
    {
     "data": {
      "text/plain": [
       "634"
      ]
     },
     "execution_count": 23,
     "metadata": {},
     "output_type": "execute_result"
    }
   ],
   "source": [
    "len(dev[\"Document\"][6].split())"
   ]
  },
  {
   "cell_type": "code",
   "execution_count": 24,
   "metadata": {
    "tags": []
   },
   "outputs": [
    {
     "data": {
      "text/plain": [
       "34"
      ]
     },
     "execution_count": 24,
     "metadata": {},
     "output_type": "execute_result"
    }
   ],
   "source": [
    "len(dev[\"Summary\"][6].split())"
   ]
  },
  {
   "cell_type": "code",
   "execution_count": 25,
   "metadata": {
    "tags": []
   },
   "outputs": [
    {
     "name": "stdout",
     "output_type": "stream",
     "text": [
      ">> Generated text 1\n",
      "\n",
      "tóm tắt văn bản sau :Bạn không nên uống bất kì loại thuốc chống đông máu nào trong ít nhất vài ngày sau phẫu thuật. Nhờ bác sĩ tư vấn về việc này nếu đang sử dụng thuốc chống đông máu, vì nó làm tăng nguy cơ chảy máu hậu phẫu thuật. Tùy vào mỗi người thời gian cần ngừng uống thuốc chống đông máu sẽ khác nhau (thứ nhất là phụ thuộc vào lý do vì sao bạn phải dùng loại thuốc này). Nhờ bác sĩ hướng dẫn khi nào có thể uống thuốc trở lại bình thường. Nghỉ ngơi là một trong những yếu tố quan trọng nhất để phục hồi sau phẫu thuật cắt ống dẫn tinh. Bạn nên nghỉ phép vài ngày hoặc hạn chế làm các công việc thường nhật để vết thương lành nhanh hơn. Trừ khi công việc đòi hỏi phải hoạt động nhiều hoặc nâng nặng, bạn có thể đi làm lại khá nhanh, khoảng 2-3 ngày sau. Nếu phải làm việc nặng bạn nên hỏi bác sĩ khi nào an toàn để đi làm lại.  Cố gắng không làm việc quá nhiều trong 2-3 ngày đầu tiên sau phẫu thuật, và không ngại nhờ người khác giúp đỡ để có thời gian nghỉ ngơi phục hồi tốt hơn. Khuyến cáo hoạt động thể chất ở mức tối thiểu trong khoảng năm ngày sau phẫu thuật, và không nâng vật nặng trong ít nhất một tuần.   Nâng nặng khiến vết mổ bị kéo căng nên ảnh hưởng xấu đến quá trình lành. Sau năm ngày bạn có thể tập thể dục trở lại, bắt đầu nhẹ nhàng và từ từ khôi phục cường độ bình thường sau vài tuần. Phóng tinh sẽ gây đau và đôi khi dẫn tới chảy máu trong giai đoạn đầu sau phẫu thuật. Vì vậy bạn không thể tham gia hoạt động tình dục trong 7 ngày sau đó.  Nếu muốn quan hệ tình dục (sau khi hết một tuần và cảm thấy đủ tự tin), bạn phải sử dụng biện pháp ngừa thai cho đến khi hoàn thành các buổi tái khám để bác sĩ xác nhận không còn tinh trùng trong tinh dịch. Sau khi phẫu thuật bạn thường phải phóng tinh 20 lần trước khi tinh trùng hết hoàn toàn. Nói chung phẫu thuật cắt ống dẫn tinh không ảnh hưởng đến chức năng tình dục của người đàn ông. Nhiều người lo việc này sẽ ảnh hưởng đến ham muốn, sự cương cứng và/hoặc khoái cảm, nhưng nhiều nghiên cứu đã xác nhận rằng thủ thuật cắt ống dẫn tinh hoàn toàn không có tác động tiêu cực như vậy.   Người ta còn chứng minh phụ nữ cảm thấy thỏa mãn hơn sau khi bạn đời của họ trải qua phẫu thuật này, có lẽ vì họ an tâm khi không còn khả năng mang thai ngoài ý muốn. Lưu ý, rủi ro mang thai vẫn còn dù rất nhỏ (0,1% mỗi năm) sau khi phẫu thuật cắt ống dẫn tinh. Lý do là mặc dù hai đầu ống dẫn tinh đã được \"tách rời\" nhau nhưng tinh trùng vẫn có cơ hội băng qua đó và dẫn đến thụ thai. Tuy nhiên khả năng này rất hiếm và phẫu thuật cắt ống dẫn tinh (hay \"thắt ống dẫn trứng\", một thủ thuật tương đương ở phụ nữ) được xem là phương pháp ngừa thai hiệu quả nhất đối với những cặp vợ chồng quyết định không sinh con nữa. Tùy vào kỹ thuật áp dụng mà bác sĩ có thể phải khâu bìu tinh hoàn. Để ngăn chặn nhiễm trùng, tốt nhất bạn nên giữ vết khâu khô ráo, nghĩa là không bơi hay tắm trong vài ngày đầu tiên. Hỏi bác sĩ khi nào an toàn để tắm hay bơi.văn bản tóm tắt :Tham khảo ý nếu bạn đang uống các thuốc kháng viêm gan. Quan tâm đến việc chăm sóc sức khỏe tổng thể. Tìm hiểu về vấn đề phòng tránh thai trong suốt quá 6 tháng.<s>\n",
      "\n",
      "---\n",
      ">> Generated text 2\n",
      "\n",
      "tóm tắt văn bản sau :Bạn không nên uống bất kì loại thuốc chống đông máu nào trong ít nhất vài ngày sau phẫu thuật. Nhờ bác sĩ tư vấn về việc này nếu đang sử dụng thuốc chống đông máu, vì nó làm tăng nguy cơ chảy máu hậu phẫu thuật. Tùy vào mỗi người thời gian cần ngừng uống thuốc chống đông máu sẽ khác nhau (thứ nhất là phụ thuộc vào lý do vì sao bạn phải dùng loại thuốc này). Nhờ bác sĩ hướng dẫn khi nào có thể uống thuốc trở lại bình thường. Nghỉ ngơi là một trong những yếu tố quan trọng nhất để phục hồi sau phẫu thuật cắt ống dẫn tinh. Bạn nên nghỉ phép vài ngày hoặc hạn chế làm các công việc thường nhật để vết thương lành nhanh hơn. Trừ khi công việc đòi hỏi phải hoạt động nhiều hoặc nâng nặng, bạn có thể đi làm lại khá nhanh, khoảng 2-3 ngày sau. Nếu phải làm việc nặng bạn nên hỏi bác sĩ khi nào an toàn để đi làm lại.  Cố gắng không làm việc quá nhiều trong 2-3 ngày đầu tiên sau phẫu thuật, và không ngại nhờ người khác giúp đỡ để có thời gian nghỉ ngơi phục hồi tốt hơn. Khuyến cáo hoạt động thể chất ở mức tối thiểu trong khoảng năm ngày sau phẫu thuật, và không nâng vật nặng trong ít nhất một tuần.   Nâng nặng khiến vết mổ bị kéo căng nên ảnh hưởng xấu đến quá trình lành. Sau năm ngày bạn có thể tập thể dục trở lại, bắt đầu nhẹ nhàng và từ từ khôi phục cường độ bình thường sau vài tuần. Phóng tinh sẽ gây đau và đôi khi dẫn tới chảy máu trong giai đoạn đầu sau phẫu thuật. Vì vậy bạn không thể tham gia hoạt động tình dục trong 7 ngày sau đó.  Nếu muốn quan hệ tình dục (sau khi hết một tuần và cảm thấy đủ tự tin), bạn phải sử dụng biện pháp ngừa thai cho đến khi hoàn thành các buổi tái khám để bác sĩ xác nhận không còn tinh trùng trong tinh dịch. Sau khi phẫu thuật bạn thường phải phóng tinh 20 lần trước khi tinh trùng hết hoàn toàn. Nói chung phẫu thuật cắt ống dẫn tinh không ảnh hưởng đến chức năng tình dục của người đàn ông. Nhiều người lo việc này sẽ ảnh hưởng đến ham muốn, sự cương cứng và/hoặc khoái cảm, nhưng nhiều nghiên cứu đã xác nhận rằng thủ thuật cắt ống dẫn tinh hoàn toàn không có tác động tiêu cực như vậy.   Người ta còn chứng minh phụ nữ cảm thấy thỏa mãn hơn sau khi bạn đời của họ trải qua phẫu thuật này, có lẽ vì họ an tâm khi không còn khả năng mang thai ngoài ý muốn. Lưu ý, rủi ro mang thai vẫn còn dù rất nhỏ (0,1% mỗi năm) sau khi phẫu thuật cắt ống dẫn tinh. Lý do là mặc dù hai đầu ống dẫn tinh đã được \"tách rời\" nhau nhưng tinh trùng vẫn có cơ hội băng qua đó và dẫn đến thụ thai. Tuy nhiên khả năng này rất hiếm và phẫu thuật cắt ống dẫn tinh (hay \"thắt ống dẫn trứng\", một thủ thuật tương đương ở phụ nữ) được xem là phương pháp ngừa thai hiệu quả nhất đối với những cặp vợ chồng quyết định không sinh con nữa. Tùy vào kỹ thuật áp dụng mà bác sĩ có thể phải khâu bìu tinh hoàn. Để ngăn chặn nhiễm trùng, tốt nhất bạn nên giữ vết khâu khô ráo, nghĩa là không bơi hay tắm trong vài ngày đầu tiên. Hỏi bác sĩ khi nào an toàn để tắm hay bơi.văn bản tóm tắt :Tuân theo lời khuyên của bác sỹ về vấn đề phòng tránh thai trong hai tuần đầu. Tuân theo chỉ dẫn truyền dịch của bạn đến phòng khám.<s><s><s><s><s><s><s><s><s>\n",
      "\n",
      "---\n",
      ">> Generated text 3\n",
      "\n",
      "tóm tắt văn bản sau :Bạn không nên uống bất kì loại thuốc chống đông máu nào trong ít nhất vài ngày sau phẫu thuật. Nhờ bác sĩ tư vấn về việc này nếu đang sử dụng thuốc chống đông máu, vì nó làm tăng nguy cơ chảy máu hậu phẫu thuật. Tùy vào mỗi người thời gian cần ngừng uống thuốc chống đông máu sẽ khác nhau (thứ nhất là phụ thuộc vào lý do vì sao bạn phải dùng loại thuốc này). Nhờ bác sĩ hướng dẫn khi nào có thể uống thuốc trở lại bình thường. Nghỉ ngơi là một trong những yếu tố quan trọng nhất để phục hồi sau phẫu thuật cắt ống dẫn tinh. Bạn nên nghỉ phép vài ngày hoặc hạn chế làm các công việc thường nhật để vết thương lành nhanh hơn. Trừ khi công việc đòi hỏi phải hoạt động nhiều hoặc nâng nặng, bạn có thể đi làm lại khá nhanh, khoảng 2-3 ngày sau. Nếu phải làm việc nặng bạn nên hỏi bác sĩ khi nào an toàn để đi làm lại.  Cố gắng không làm việc quá nhiều trong 2-3 ngày đầu tiên sau phẫu thuật, và không ngại nhờ người khác giúp đỡ để có thời gian nghỉ ngơi phục hồi tốt hơn. Khuyến cáo hoạt động thể chất ở mức tối thiểu trong khoảng năm ngày sau phẫu thuật, và không nâng vật nặng trong ít nhất một tuần.   Nâng nặng khiến vết mổ bị kéo căng nên ảnh hưởng xấu đến quá trình lành. Sau năm ngày bạn có thể tập thể dục trở lại, bắt đầu nhẹ nhàng và từ từ khôi phục cường độ bình thường sau vài tuần. Phóng tinh sẽ gây đau và đôi khi dẫn tới chảy máu trong giai đoạn đầu sau phẫu thuật. Vì vậy bạn không thể tham gia hoạt động tình dục trong 7 ngày sau đó.  Nếu muốn quan hệ tình dục (sau khi hết một tuần và cảm thấy đủ tự tin), bạn phải sử dụng biện pháp ngừa thai cho đến khi hoàn thành các buổi tái khám để bác sĩ xác nhận không còn tinh trùng trong tinh dịch. Sau khi phẫu thuật bạn thường phải phóng tinh 20 lần trước khi tinh trùng hết hoàn toàn. Nói chung phẫu thuật cắt ống dẫn tinh không ảnh hưởng đến chức năng tình dục của người đàn ông. Nhiều người lo việc này sẽ ảnh hưởng đến ham muốn, sự cương cứng và/hoặc khoái cảm, nhưng nhiều nghiên cứu đã xác nhận rằng thủ thuật cắt ống dẫn tinh hoàn toàn không có tác động tiêu cực như vậy.   Người ta còn chứng minh phụ nữ cảm thấy thỏa mãn hơn sau khi bạn đời của họ trải qua phẫu thuật này, có lẽ vì họ an tâm khi không còn khả năng mang thai ngoài ý muốn. Lưu ý, rủi ro mang thai vẫn còn dù rất nhỏ (0,1% mỗi năm) sau khi phẫu thuật cắt ống dẫn tinh. Lý do là mặc dù hai đầu ống dẫn tinh đã được \"tách rời\" nhau nhưng tinh trùng vẫn có cơ hội băng qua đó và dẫn đến thụ thai. Tuy nhiên khả năng này rất hiếm và phẫu thuật cắt ống dẫn tinh (hay \"thắt ống dẫn trứng\", một thủ thuật tương đương ở phụ nữ) được xem là phương pháp ngừa thai hiệu quả nhất đối với những cặp vợ chồng quyết định không sinh con nữa. Tùy vào kỹ thuật áp dụng mà bác sĩ có thể phải khâu bìu tinh hoàn. Để ngăn chặn nhiễm trùng, tốt nhất bạn nên giữ vết khâu khô ráo, nghĩa là không bơi hay tắm trong vài ngày đầu tiên. Hỏi bác sĩ khi nào an toàn để tắm hay bơi.văn bản tóm tắt :Tham khảo ý nếu bạn đang uống các thuốc kháng viêm gan. Tham gia chương trình chăm sóc y tế để ngăn ngừa thuốc.<s><s><s><s><s><s><s><s><s><s><s><s><s>\n",
      "\n",
      "---\n"
     ]
    }
   ],
   "source": [
    "input_ids = tokenizer.encode(\"tóm tắt văn bản sau :\"+ dev[\"Document\"][6] + \"văn bản tóm tắt :\", return_tensors='pt').to(\"cuda\")\n",
    "max_length = 800\n",
    "\n",
    "sample_outputs = model.generate(input_ids,pad_token_id=tokenizer.eos_token_id,\n",
    "                                eos_token_id=0,\n",
    "                                   do_sample=True,\n",
    "                                   max_length=max_length,\n",
    "                                   top_k=40,\n",
    "                                   num_beams=5,\n",
    "                                   early_stopping=True,\n",
    "                                   no_repeat_ngram_size=2,\n",
    "                                   num_return_sequences=3)\n",
    "\n",
    "for i, sample_output in enumerate(sample_outputs):\n",
    "    print(\">> Generated text {}\\n\\n{}\".format(i+1, tokenizer.decode(sample_output.tolist())))\n",
    "    print('\\n---')\n"
   ]
  },
  {
   "cell_type": "code",
   "execution_count": 35,
   "metadata": {
    "execution": {
     "iopub.execute_input": "2023-05-14T15:48:03.644942Z",
     "iopub.status.busy": "2023-05-14T15:48:03.644508Z",
     "iopub.status.idle": "2023-05-14T15:48:04.676680Z",
     "shell.execute_reply": "2023-05-14T15:48:04.675610Z",
     "shell.execute_reply.started": "2023-05-14T15:48:03.644909Z"
    }
   },
   "outputs": [],
   "source": [
    "trainer.save_model(\"/kaggle/working/log\")"
   ]
  },
  {
   "cell_type": "code",
   "execution_count": 36,
   "metadata": {
    "execution": {
     "iopub.execute_input": "2023-05-14T15:48:04.678372Z",
     "iopub.status.busy": "2023-05-14T15:48:04.678010Z",
     "iopub.status.idle": "2023-05-14T15:48:04.786217Z",
     "shell.execute_reply": "2023-05-14T15:48:04.785199Z",
     "shell.execute_reply.started": "2023-05-14T15:48:04.678337Z"
    }
   },
   "outputs": [
    {
     "name": "stderr",
     "output_type": "stream",
     "text": [
      "The model 'GPT2LMHeadModel' is not supported for summarization. Supported models are ['BartForConditionalGeneration', 'BigBirdPegasusForConditionalGeneration', 'BlenderbotForConditionalGeneration', 'BlenderbotSmallForConditionalGeneration', 'EncoderDecoderModel', 'FSMTForConditionalGeneration', 'GPTSanJapaneseForConditionalGeneration', 'LEDForConditionalGeneration', 'LongT5ForConditionalGeneration', 'M2M100ForConditionalGeneration', 'MarianMTModel', 'MBartForConditionalGeneration', 'MT5ForConditionalGeneration', 'MvpForConditionalGeneration', 'NllbMoeForConditionalGeneration', 'PegasusForConditionalGeneration', 'PegasusXForConditionalGeneration', 'PLBartForConditionalGeneration', 'ProphetNetForConditionalGeneration', 'SwitchTransformersForConditionalGeneration', 'T5ForConditionalGeneration', 'XLMProphetNetForConditionalGeneration'].\n"
     ]
    }
   ],
   "source": [
    "summarizer = pipeline(\"summarization\", model=model, device=0,tokenizer=tokenizer)"
   ]
  },
  {
   "cell_type": "code",
   "execution_count": 37,
   "metadata": {
    "execution": {
     "iopub.execute_input": "2023-05-14T15:48:04.788034Z",
     "iopub.status.busy": "2023-05-14T15:48:04.787605Z",
     "iopub.status.idle": "2023-05-14T15:48:04.858590Z",
     "shell.execute_reply": "2023-05-14T15:48:04.857511Z",
     "shell.execute_reply.started": "2023-05-14T15:48:04.788002Z"
    }
   },
   "outputs": [
    {
     "data": {
      "text/plain": [
       "'Theo chia sẻ của TS . BS Trương Thị Ngọc Lan , Viện phó viện Y dược học dân tộc , tại Trung Quốc nhựa cây tuyết yến ( đang được rao bán trên mạng với giá cả triệu đồng / lạng ) thực chất là mủ trôm được nhập từ Lào , Việt Nam .'"
      ]
     },
     "execution_count": 37,
     "metadata": {},
     "output_type": "execute_result"
    }
   ],
   "source": [
    "train[\"Summary\"][0]"
   ]
  },
  {
   "cell_type": "code",
   "execution_count": 38,
   "metadata": {
    "execution": {
     "iopub.execute_input": "2023-05-14T15:48:04.860437Z",
     "iopub.status.busy": "2023-05-14T15:48:04.860079Z",
     "iopub.status.idle": "2023-05-14T15:48:10.416134Z",
     "shell.execute_reply": "2023-05-14T15:48:10.415151Z",
     "shell.execute_reply.started": "2023-05-14T15:48:04.860405Z"
    }
   },
   "outputs": [
    {
     "name": "stderr",
     "output_type": "stream",
     "text": [
      "Your max_length is set to 1024, but you input_length is only 598. You might consider decreasing max_length manually, e.g. summarizer('...', max_length=299)\n"
     ]
    },
    {
     "data": {
      "text/plain": [
       "[{'summary_text': 'Vợ tôi thường xuyên đi làm về muộn , đó là lý do khiến tôi trở thành đầu bếp bất đắc dĩ trong nhà .Với tài nấu ăn độc nhất vô nhị , tôi đã tạo nên những thảm hoạ chưa từng có khi nỗ lực “ than hoá ” hoặc cho tất cả nguyên liệu vào nồi trong tình trạng “ nguyên thuỷ ” , không qua sơ chế .Tuy nhiên để động viên tinh thần nội trợ của chồng , vợ tôi luôn hào hứng đặt tên và chụp ảnh từng món ăn rồi khoe lên Facebook .Bộ sưu tập gồm có : Đậu Ngọc Trinh lướt bùn , ngô luộc bóng đêm , tôi thấy cua vàng trên mướp xanh , rau luộc cột đình và hàng chục cái tên kêu chan chát khác .Nhờ phát hiện chấn động về khả năng sử dụng ngôn từ của vợ mà tôi đã nghĩ ra một chiến lược kinh doanh mới , chỉ nhắm vào cái tên và không làm gì khác .Đừng tưởng rằng cái nóng mùa hè đang ảnh hưởng lên thần kinh của tôi , nếu am hiểu một chút về bán hàng trên mạng bạn sẽ thấy lời khuyên của tôi đáng giá hàng trăm triệu đồng .Nói có sách , mách có báo : Mới đây , nhiều shop online đồng loạt chào hàng một loại nhựa cây \" bổ dưỡng , nở gấp 10 lần yến thông thường ” với giá cả triệu đồng một lạng .Hét giá cao , quảng cáo ngọt ngào , cộng thêm tên gọi “ tuyết yến ” đầy thi vị , gợi nhớ đến bữa tiệc vua ban nhưng đa số người bán không biết hình dạng thật của cây .Bên cạnh đó , một loại nhựa hoa đào , xuất xứ Vân Nam , Quý Châu ( Trung Quốc ) cũng được nhiều người chào hàng với tên gọi “ nước mắt đào tiên ” , chiết ra từ thân cây đào có màu như hổ phách , pha lê , được cho là chứa nhiều collagen nên giúp làm đẹp da tuy nhiên giá mỗi nơi mỗi khác , chênh lệch nhau hàng triệu đồng / kg .Dân tình ham của lạ , đánh giá chất lượng qua giá cả ùn ùn kéo tới mua mà không biết một sự thật đắng lòng .Theo chia sẻ của TS .BS Trương Thị Ngọc Lan , Viện phó viện Y dược học dân tộc trên Vnexpress , tại Trung Quốc nhựa cây tuyết yến thực chất là mủ trôm được nhập từ Lào , Việt Nam .Mà mủ trôm tại Việt Nam thì đang được bày bán với giá khoảng 250 - 300 ngàn / kg , tức chỉ 25 - 30 ngàn / lạng .Trong khi đó nhựa hoa đào được người Trung Quốc sử dụng làm món ăn , song phải đúng liều lượng mới có hiệu quả .Hiện chưa có một công trình nghiên cứu nào cho rằng hai loại này là vị thuốc trong đông y .Đọc đến đây , có lẽ bạn đọc đã tự chiêm nghiệm được nhiều điều .Khi kinh doanh đừng bao giờ coi nhẹ tên sản phẩm .Như mủ trôm sau khi đi một vòng và trở về với cái tên mỹ miều đã khiến người giàu dốc hầu bao mua một cân với số tiền mà đáng ra họ phải mua được hàng yến !Trương Chi , một người dân mạng chia sẻ , có một người đã mua một loại nước hoa đào có tên khoa học là “ bổ dưỡng ” với giá hàng trăm triệu đồng / lạng .Tôi nghĩ rằng đó là một loại nước mắt đào , nhưng không phải là nguyên thuỷ , không phải là nước mắt đào .Còn nếu muốn biết tên khoa học của nó thì phải là “ bổ dưỡng ” .văn bản tóm tắt :Một loại nước mắt đào , nước mắt đào , chiết ra từ thân cây đào tiên , chiết ra từ thân cây đào tiên được bán với giá hàng trăm triệu đồng / kg . , chiết ra từ thân cây đào tiên được người dân mê tít này mê tít ” .văn bản tóm tắt :Một loại nhựa hoa đào , một loại có tên khoa học được người Trung Quốc sử dụng làm nước mắt đào , có khả năng sử dụng làm đẹp mắt đào tiên nhưng không làm gì . được người Trung Quốc sử dụng làm món ăn , nhưng không biết được .văn bản tóm tắt :Dùng nước mắt đào , hoa đào , rau luộc từ thân cây hoa đào , rau luộc bóng đêm được người Trung Quốc sử dụng làm nước mắt đào , người dân mê tít này đã phát điên cuồng mê món ăn .văn bản tóm tắt :Dùng nước mắt đào , người mê mẩn , người mê mẩn , người Trung Quốc mê mẩn mê mẩn mê món ăn , người mê mẩn món ăn , người mê mẩn món ăn , người mê mẩn mê mẩn món ăn , người mê mẩn với món ăn , nhưng không biết rằng đó là nước mắt đào . văn bản thân cây hoa đào , nhưng không biết rằng đó là nguyên thuỷ .văn bản quyền của họ không biết rằng mình đã “ than hoá ” .văn bản tóm tắt :văn bản tóm tắt :văn bản tóm tắt :văn bản tóm tắt :văn bản tóm tắt :văn bản tóm tắt :văn bản tóm tắt :văn bản tóm tắt :văn bản tóm tắtvăn bản tóm tắtvăn bản tóm tắtvăn bản tóm tắtvăn bản tóm tắtvăn bản tóm tắtvăn bản tóm tắtvăn bản tóm tắtvăn bản tóm tắtvăn'}]"
      ]
     },
     "execution_count": 38,
     "metadata": {},
     "output_type": "execute_result"
    }
   ],
   "source": [
    "summarizer(train[\"Document\"][0])"
   ]
  },
  {
   "cell_type": "code",
   "execution_count": null,
   "metadata": {},
   "outputs": [],
   "source": []
  }
 ],
 "metadata": {
  "environment": {
   "kernel": "python3",
   "name": "common-cu110.m108",
   "type": "gcloud",
   "uri": "gcr.io/deeplearning-platform-release/base-cu110:m108"
  },
  "kernelspec": {
   "display_name": "Python 3",
   "language": "python",
   "name": "python3"
  },
  "language_info": {
   "codemirror_mode": {
    "name": "ipython",
    "version": 3
   },
   "file_extension": ".py",
   "mimetype": "text/x-python",
   "name": "python",
   "nbconvert_exporter": "python",
   "pygments_lexer": "ipython3",
   "version": "3.7.12"
  }
 },
 "nbformat": 4,
 "nbformat_minor": 4
}
